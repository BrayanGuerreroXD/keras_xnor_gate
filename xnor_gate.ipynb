{
 "cells": [
  {
   "cell_type": "code",
   "execution_count": 1,
   "id": "85f15422",
   "metadata": {},
   "outputs": [],
   "source": [
    "# Red Neuronal para la Fórmula de la Compuerta XNOR\n",
    "# Importamos las librerias\n",
    "import numpy as np\n",
    "from keras.models import Sequential\n",
    "from keras.layers.core import Dense"
   ]
  },
  {
   "cell_type": "code",
   "execution_count": 2,
   "id": "69e7f15b",
   "metadata": {},
   "outputs": [],
   "source": [
    "# Cargamos las 4 combinaciones de las compuertas XNOR\n",
    "training_data = np.array([[0,0],[0,1],[1,0],[1,1]], \"float32\")\n",
    " \n",
    "# y estos son los resultados que se obtienen, en el mismo orden\n",
    "target_data = np.array([[1],[0],[0],[1]], \"float32\")\n",
    " \n",
    "model = Sequential()\n",
    "model.add(Dense(16, input_dim=2, activation='relu'))\n",
    "model.add(Dense(1, activation='sigmoid'))"
   ]
  },
  {
   "cell_type": "code",
   "execution_count": null,
   "id": "6fed24e2",
   "metadata": {},
   "outputs": [],
   "source": []
  }
 ],
 "metadata": {
  "kernelspec": {
   "display_name": "Python 3 (ipykernel)",
   "language": "python",
   "name": "python3"
  },
  "language_info": {
   "codemirror_mode": {
    "name": "ipython",
    "version": 3
   },
   "file_extension": ".py",
   "mimetype": "text/x-python",
   "name": "python",
   "nbconvert_exporter": "python",
   "pygments_lexer": "ipython3",
   "version": "3.9.7"
  }
 },
 "nbformat": 4,
 "nbformat_minor": 5
}
