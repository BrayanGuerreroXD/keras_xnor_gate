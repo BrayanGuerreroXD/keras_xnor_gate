{
 "cells": [
  {
   "cell_type": "code",
   "execution_count": null,
   "id": "c879ee4e",
   "metadata": {},
   "outputs": [],
   "source": [
    "# Red Neuronal para la Fórmula de la Compuerta XNOR\n",
    "# Importamos las librerias\n",
    "import numpy as np\n",
    "from keras.models import Sequential\n",
    "from keras.layers.core import Dense"
   ]
  }
 ],
 "metadata": {
  "kernelspec": {
   "display_name": "Python 3 (ipykernel)",
   "language": "python",
   "name": "python3"
  },
  "language_info": {
   "codemirror_mode": {
    "name": "ipython",
    "version": 3
   },
   "file_extension": ".py",
   "mimetype": "text/x-python",
   "name": "python",
   "nbconvert_exporter": "python",
   "pygments_lexer": "ipython3",
   "version": "3.9.7"
  }
 },
 "nbformat": 4,
 "nbformat_minor": 5
}
